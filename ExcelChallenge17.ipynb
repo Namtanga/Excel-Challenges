{
  "nbformat": 4,
  "nbformat_minor": 0,
  "metadata": {
    "colab": {
      "provenance": [],
      "authorship_tag": "ABX9TyPtKIbQ0r9R+0OiAXypsclq",
      "include_colab_link": true
    },
    "kernelspec": {
      "name": "python3",
      "display_name": "Python 3"
    },
    "language_info": {
      "name": "python"
    }
  },
  "cells": [
    {
      "cell_type": "markdown",
      "metadata": {
        "id": "view-in-github",
        "colab_type": "text"
      },
      "source": [
        "<a href=\"https://colab.research.google.com/github/Namtanga/Excel-Challenges/blob/master/ExcelChallenge17.ipynb\" target=\"_parent\"><img src=\"https://colab.research.google.com/assets/colab-badge.svg\" alt=\"Open In Colab\"/></a>"
      ]
    },
    {
      "cell_type": "code",
      "execution_count": 1,
      "metadata": {
        "colab": {
          "base_uri": "https://localhost:8080/"
        },
        "id": "lrOGJTaIgKoM",
        "outputId": "cd2b67da-70e0-47d5-94e0-e2c347c8f146"
      },
      "outputs": [
        {
          "output_type": "stream",
          "name": "stdout",
          "text": [
            "All combinations of numbers that sum up to 207:\n",
            "[30, 57, 21, 51, 26, 22]\n",
            "[30, 57, 21, 22, 77]\n",
            "[30, 49, 51, 77]\n",
            "[57, 51, 22, 77]\n"
          ]
        }
      ],
      "source": [
        "# Given numbers\n",
        "numbers = [30, 57, 49, 21, 51, 26, 22, 77]\n",
        "\n",
        "# Target value\n",
        "target = 207\n",
        "\n",
        "# Function to find combinations that sum up to target\n",
        "def find_combinations(numbers, target):\n",
        "    # List to store all valid combinations\n",
        "    result = []\n",
        "\n",
        "    # Recursive function to find combinations\n",
        "    def backtrack(current_combination, start_index, target):\n",
        "        if target == 0:\n",
        "            result.append(current_combination[:])\n",
        "            return\n",
        "        if target < 0:\n",
        "            return\n",
        "\n",
        "        for i in range(start_index, len(numbers)):\n",
        "            current_combination.append(numbers[i])\n",
        "            backtrack(current_combination, i + 1, target - numbers[i])\n",
        "            current_combination.pop()\n",
        "\n",
        "    # Start backtrack with empty combination, starting index 0, and target\n",
        "    backtrack([], 0, target)\n",
        "\n",
        "    return result\n",
        "\n",
        "# Find all combinations that sum up to 207\n",
        "combinations_list = find_combinations(numbers, target)\n",
        "\n",
        "# Print the result\n",
        "if combinations_list:\n",
        "    print(f\"All combinations of numbers that sum up to {target}:\")\n",
        "    for combination in combinations_list:\n",
        "        print(combination)\n",
        "else:\n",
        "    print(f\"No combination found for target {target}\")\n"
      ]
    }
  ]
}