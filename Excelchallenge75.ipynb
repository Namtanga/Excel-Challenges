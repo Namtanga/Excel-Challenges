{
  "nbformat": 4,
  "nbformat_minor": 0,
  "metadata": {
    "colab": {
      "provenance": [],
      "authorship_tag": "ABX9TyPqTplkfDV7lWmPy70315jG",
      "include_colab_link": true
    },
    "kernelspec": {
      "name": "python3",
      "display_name": "Python 3"
    },
    "language_info": {
      "name": "python"
    }
  },
  "cells": [
    {
      "cell_type": "markdown",
      "metadata": {
        "id": "view-in-github",
        "colab_type": "text"
      },
      "source": [
        "<a href=\"https://colab.research.google.com/github/Namtanga/Excel-Challenges/blob/master/Excelchallenge75.ipynb\" target=\"_parent\"><img src=\"https://colab.research.google.com/assets/colab-badge.svg\" alt=\"Open In Colab\"/></a>"
      ]
    },
    {
      "cell_type": "code",
      "execution_count": 2,
      "metadata": {
        "colab": {
          "base_uri": "https://localhost:8080/"
        },
        "id": "i0omZ4bhvbHs",
        "outputId": "fbc6ebc1-0f6a-44b2-f7b4-ae2eb7234bc4"
      },
      "outputs": [
        {
          "output_type": "stream",
          "name": "stdout",
          "text": [
            "       *\n",
            "      ***\n",
            "     *****\n",
            "    *******\n",
            "   *********\n",
            "  ***********\n",
            " *************\n",
            "***************\n",
            " *************\n",
            "  ***********\n",
            "   *********\n",
            "    *******\n",
            "     *****\n",
            "      ***\n",
            "       *\n"
          ]
        }
      ],
      "source": [
        "def generate_rhombus(n):\n",
        "    # Make n odd if it is even\n",
        "    if n % 2 == 0:\n",
        "        n += 1\n",
        "\n",
        "    rhombus = []\n",
        "    mid = n // 2\n",
        "\n",
        "    for i in range(n):\n",
        "        line = \"\"\n",
        "        num_spaces = abs(mid - i)\n",
        "        num_stars = n - 2 * num_spaces\n",
        "\n",
        "        line += \" \" * num_spaces\n",
        "        line += \"*\" * num_stars\n",
        "        rhombus.append(line)\n",
        "\n",
        "    return \"\\n\".join(rhombus)\n",
        "\n",
        "# Example usage:\n",
        "n = 15\n",
        "print(generate_rhombus(n))"
      ]
    }
  ]
}